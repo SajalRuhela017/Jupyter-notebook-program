{
 "cells": [
  {
   "cell_type": "code",
   "execution_count": 1,
   "metadata": {},
   "outputs": [],
   "source": [
    "import random , string"
   ]
  },
  {
   "cell_type": "code",
   "execution_count": 27,
   "metadata": {},
   "outputs": [],
   "source": [
    "def Password(length,num=False,strength='weak'):\n",
    "    '''Length of password,num means Number(True/False) \n",
    "        Strength(weak,strong,very)'''\n",
    "    lower=string.ascii_lowercase        #contain lowecase letters\n",
    "    upper=string.ascii_uppercase        #contain uppercase letters\n",
    "    letter=upper+lower                  #contain both uppercase and lowercase letters\n",
    "    dig=string.digits                   #contain digits('0123456789')\n",
    "    punct=string.punctuation            #contain(!@#$%^&*-+\\|)\n",
    "    pwd=''\n",
    "    if strength == 'weak':\n",
    "        if num:\n",
    "            length-=2\n",
    "            for i in range(2):\n",
    "                pwd+=random.choice(dig)\n",
    "        for i in range(length):\n",
    "            pwd+=random.choice(lower)\n",
    "    elif strength == 'strong':\n",
    "        if num:\n",
    "            length-=2\n",
    "            for i in range(2):\n",
    "                pwd+=random.choice(dig)\n",
    "        for i in range(length):\n",
    "            pwd+=random.choice(letter)\n",
    "    elif strength == 'very':\n",
    "        ran=random.randint(2,4)\n",
    "        if num:\n",
    "            length-=ran\n",
    "            for i in range(ran):\n",
    "                pwd+=random.choice(dig)\n",
    "        length-=ran\n",
    "        for i in range(ran):\n",
    "            pwd+=random.choice(punct)\n",
    "        for i in range(length):\n",
    "            pwd+=random.choice(letter)\n",
    "    pwd=list(pwd)\n",
    "    random.shuffle(pwd)\n",
    "    return ''.join(pwd)"
   ]
  },
  {
   "cell_type": "code",
   "execution_count": 58,
   "metadata": {},
   "outputs": [
    {
     "data": {
      "text/plain": [
       "'V5uAAej,XC0If]q'"
      ]
     },
     "execution_count": 58,
     "metadata": {},
     "output_type": "execute_result"
    }
   ],
   "source": [
    "Password(15,num=True,strength='very')"
   ]
  },
  {
   "cell_type": "code",
   "execution_count": 59,
   "metadata": {},
   "outputs": [
    {
     "data": {
      "text/plain": [
       "'YR4lj5qiLY'"
      ]
     },
     "execution_count": 59,
     "metadata": {},
     "output_type": "execute_result"
    }
   ],
   "source": [
    "Password(10,num=True,strength='strong')"
   ]
  },
  {
   "cell_type": "code",
   "execution_count": 60,
   "metadata": {},
   "outputs": [
    {
     "data": {
      "text/plain": [
       "'e3uy3'"
      ]
     },
     "execution_count": 60,
     "metadata": {},
     "output_type": "execute_result"
    }
   ],
   "source": [
    "Password(5,num=True,strength='weak')"
   ]
  }
 ],
 "metadata": {
  "kernelspec": {
   "display_name": "Python 3",
   "language": "python",
   "name": "python3"
  },
  "language_info": {
   "codemirror_mode": {
    "name": "ipython",
    "version": 3
   },
   "file_extension": ".py",
   "mimetype": "text/x-python",
   "name": "python",
   "nbconvert_exporter": "python",
   "pygments_lexer": "ipython3",
   "version": "3.8.2"
  }
 },
 "nbformat": 4,
 "nbformat_minor": 4
}
