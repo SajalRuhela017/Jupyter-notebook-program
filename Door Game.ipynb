{
 "cells": [
  {
   "cell_type": "code",
   "execution_count": 1,
   "metadata": {},
   "outputs": [],
   "source": [
    "import random"
   ]
  },
  {
   "cell_type": "code",
   "execution_count": 8,
   "metadata": {},
   "outputs": [],
   "source": [
    "def doorgame():\n",
    "    life=5\n",
    "    while life>0:\n",
    "        door=random.randint(1,5)\n",
    "        #print(\"Door :\",door)              #for debugging\n",
    "        print(\"Life :\",life)\n",
    "        life-=1\n",
    "        guess=int(input(\"Enter a guess of door: \"))\n",
    "        if guess != door:\n",
    "            if life>0:\n",
    "                print(\"Guess Again!\")\n",
    "                continue\n",
    "            else:\n",
    "                print(\"You lose all of your life. The correct door was \" + str(door))\n",
    "        else:\n",
    "            print(\"Well done, you managed to escape!\")\n",
    "        print(\"Do you want to play again?\")\n",
    "        choice=input(\"Yes or No: \").lower()[0]\n",
    "        if choice==\"y\":\n",
    "            life=5\n",
    "        else:\n",
    "            life=0\n",
    "    else:\n",
    "        print(\"Game over\")"
   ]
  },
  {
   "cell_type": "code",
   "execution_count": null,
   "metadata": {},
   "outputs": [],
   "source": [
    "\n"
   ]
  },
  {
   "cell_type": "code",
   "execution_count": null,
   "metadata": {},
   "outputs": [],
   "source": []
  }
 ],
 "metadata": {
  "kernelspec": {
   "display_name": "Python 3",
   "language": "python",
   "name": "python3"
  },
  "language_info": {
   "codemirror_mode": {
    "name": "ipython",
    "version": 3
   },
   "file_extension": ".py",
   "mimetype": "text/x-python",
   "name": "python",
   "nbconvert_exporter": "python",
   "pygments_lexer": "ipython3",
   "version": "3.8.2"
  }
 },
 "nbformat": 4,
 "nbformat_minor": 4
}
