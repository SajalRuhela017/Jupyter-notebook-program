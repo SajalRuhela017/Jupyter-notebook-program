{
 "cells": [
  {
   "cell_type": "code",
   "execution_count": 18,
   "metadata": {},
   "outputs": [],
   "source": [
    "def sec(x):\n",
    "    ''' Takes time in Seconds and \n",
    "    gives the output in day,hour,minute,second format '''\n",
    "    d=x//86400\n",
    "    h=(x%86400)//3600\n",
    "    m=(x%3600)//60\n",
    "    s=(x%60)\n",
    "    print(f'{d:02}:{h:02}:{m:02}:{s:02}')"
   ]
  },
  {
   "cell_type": "code",
   "execution_count": 20,
   "metadata": {},
   "outputs": [
    {
     "name": "stdout",
     "output_type": "stream",
     "text": [
      " d: h: m: s\n",
      "01:01:33:20\n"
     ]
    }
   ],
   "source": [
    "print(' d: h: m: s')\n",
    "sec(92000)"
   ]
  },
  {
   "cell_type": "code",
   "execution_count": null,
   "metadata": {},
   "outputs": [],
   "source": []
  }
 ],
 "metadata": {
  "kernelspec": {
   "display_name": "Python 3",
   "language": "python",
   "name": "python3"
  },
  "language_info": {
   "codemirror_mode": {
    "name": "ipython",
    "version": 3
   },
   "file_extension": ".py",
   "mimetype": "text/x-python",
   "name": "python",
   "nbconvert_exporter": "python",
   "pygments_lexer": "ipython3",
   "version": "3.8.2"
  }
 },
 "nbformat": 4,
 "nbformat_minor": 4
}
